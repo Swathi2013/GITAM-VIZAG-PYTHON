{
 "cells": [
  {
   "cell_type": "code",
   "execution_count": 13,
   "metadata": {},
   "outputs": [
    {
     "ename": "SyntaxError",
     "evalue": "invalid syntax (<ipython-input-13-a3a03a579bde>, line 2)",
     "output_type": "error",
     "traceback": [
      "\u001b[1;36m  File \u001b[1;32m\"<ipython-input-13-a3a03a579bde>\"\u001b[1;36m, line \u001b[1;32m2\u001b[0m\n\u001b[1;33m    if year %400 ==0 or (year % 100 != 0 and year % 4 ==0)\u001b[0m\n\u001b[1;37m                                                          ^\u001b[0m\n\u001b[1;31mSyntaxError\u001b[0m\u001b[1;31m:\u001b[0m invalid syntax\n"
     ]
    }
   ],
   "source": [
    "year = int(input(''))\n",
    "if year %400 ==0 or (year % 100 != 0 and year % 4 ==0)\n",
    "    print('leap year')\n",
    "else:\n",
    "    print('not leap year')\n",
    "    "
   ]
  },
  {
   "cell_type": "code",
   "execution_count": 8,
   "metadata": {},
   "outputs": [
    {
     "name": "stdout",
     "output_type": "stream",
     "text": [
      "enter a number :10\n",
      "1 2 3 4 5 6 7 8 9 10 "
     ]
    }
   ],
   "source": [
    " n=int(input('enter a number :'))\n",
    " i=1\n",
    " while i <= n:\n",
    "        print(i,end=\" \")\n",
    "        i = i+1"
   ]
  },
  {
   "cell_type": "code",
   "execution_count": 52,
   "metadata": {},
   "outputs": [
    {
     "name": "stdout",
     "output_type": "stream",
     "text": [
      "23\n",
      "32"
     ]
    }
   ],
   "source": [
    "# read a number  as input\n",
    "# output as only even numbeers from  1 to N \n",
    "#input :123\n",
    "# output : 3 2 1\n",
    "\n",
    "n = int(input(''))\n",
    "while n!= 0:\n",
    "    print(n%10,end='')\n",
    "    n = n // 10"
   ]
  },
  {
   "cell_type": "code",
   "execution_count": 53,
   "metadata": {},
   "outputs": [
    {
     "ename": "SyntaxError",
     "evalue": "invalid syntax (<ipython-input-53-3397ddb68678>, line 1)",
     "output_type": "error",
     "traceback": [
      "\u001b[1;36m  File \u001b[1;32m\"<ipython-input-53-3397ddb68678>\"\u001b[1;36m, line \u001b[1;32m1\u001b[0m\n\u001b[1;33m    def nameofthefunction(<parameters>):\u001b[0m\n\u001b[1;37m                          ^\u001b[0m\n\u001b[1;31mSyntaxError\u001b[0m\u001b[1;31m:\u001b[0m invalid syntax\n"
     ]
    }
   ],
   "source": [
    "def nameofthefunction(<parameters>):\n",
    "    statements\n",
    "    return"
   ]
  },
  {
   "cell_type": "code",
   "execution_count": 73,
   "metadata": {},
   "outputs": [
    {
     "data": {
      "text/plain": [
       "6"
      ]
     },
     "execution_count": 73,
     "metadata": {},
     "output_type": "execute_result"
    }
   ],
   "source": [
    "# Read  a Number\n",
    "# Print the Even digit sum from the number\n",
    "\n",
    "# Input  : 1234\n",
    "# Output : 6(2 + 4)\n",
    "\n",
    "def evenDigitSum(n):\n",
    "   s = 0\n",
    "   while n != 0:\n",
    "       r = n % 10\n",
    "       if r % 2 == 0:\n",
    "           s = s + r\n",
    "       n = n // 10\n",
    "   return s\n",
    "evenDigitSum(1234)\n"
   ]
  },
  {
   "cell_type": "code",
   "execution_count": null,
   "metadata": {},
   "outputs": [],
   "source": [
    "# input : 19535\n",
    "# output : 9 (Large digit of the given number)\n",
    "# Functional programming\n",
    "\n",
    "def largeDigit(n):\n",
    "    large = 0\n",
    "    while n != 0:\n",
    "        r = n % 10\n",
    "        if large < r :\n",
    "            large = r\n",
    "            n = n // 10\n",
    "    return large\n",
    "largeDigit(19535)"
   ]
  },
  {
   "cell_type": "code",
   "execution_count": 3,
   "metadata": {},
   "outputs": [
    {
     "ename": "IndentationError",
     "evalue": "unindent does not match any outer indentation level (<tokenize>, line 11)",
     "output_type": "error",
     "traceback": [
      "\u001b[1;36m  File \u001b[1;32m\"<tokenize>\"\u001b[1;36m, line \u001b[1;32m11\u001b[0m\n\u001b[1;33m    n = n // 10\u001b[0m\n\u001b[1;37m    ^\u001b[0m\n\u001b[1;31mIndentationError\u001b[0m\u001b[1;31m:\u001b[0m unindent does not match any outer indentation level\n"
     ]
    }
   ],
   "source": [
    "# input : 19535\n",
    "# output : 9(large digit of given number)\n",
    "# functional programming\n",
    "\n",
    "def largeDigit(n):\n",
    "    large = 0\n",
    "    while n != 0:\n",
    "        r = n % 10\n",
    "    if large < r :\n",
    "           large = r\n",
    "        n = n // 10        \n",
    "return large\n",
    "largeDigit(19535)\n"
   ]
  },
  {
   "cell_type": "code",
   "execution_count": 16,
   "metadata": {},
   "outputs": [
    {
     "ename": "NameError",
     "evalue": "name 'factorial' is not defined",
     "output_type": "error",
     "traceback": [
      "\u001b[1;31m---------------------------------------------------------------------------\u001b[0m",
      "\u001b[1;31mNameError\u001b[0m                                 Traceback (most recent call last)",
      "\u001b[1;32m<ipython-input-16-da7171b29ac6>\u001b[0m in \u001b[0;36m<module>\u001b[1;34m\u001b[0m\n\u001b[0;32m     29\u001b[0m                 \u001b[1;32mreturn\u001b[0m \u001b[1;34m\"No\"\u001b[0m\u001b[1;33m\u001b[0m\u001b[1;33m\u001b[0m\u001b[0m\n\u001b[0;32m     30\u001b[0m             \u001b[1;32mreturn\u001b[0m\u001b[1;33m\u001b[0m\u001b[1;33m\u001b[0m\u001b[0m\n\u001b[1;32m---> 31\u001b[1;33m \u001b[0mprint\u001b[0m\u001b[1;33m(\u001b[0m\u001b[0mdigitFactSum\u001b[0m\u001b[1;33m(\u001b[0m\u001b[1;36m145\u001b[0m\u001b[1;33m)\u001b[0m\u001b[1;33m)\u001b[0m \u001b[1;31m# Yes\u001b[0m\u001b[1;33m\u001b[0m\u001b[1;33m\u001b[0m\u001b[0m\n\u001b[0m\u001b[0;32m     32\u001b[0m \u001b[0mprint\u001b[0m\u001b[1;33m(\u001b[0m\u001b[0mdigitFactSum\u001b[0m\u001b[1;33m(\u001b[0m\u001b[1;36m123\u001b[0m\u001b[1;33m)\u001b[0m\u001b[1;33m)\u001b[0m \u001b[1;31m# No\u001b[0m\u001b[1;33m\u001b[0m\u001b[1;33m\u001b[0m\u001b[0m\n",
      "\u001b[1;32m<ipython-input-16-da7171b29ac6>\u001b[0m in \u001b[0;36mdigitFactSum\u001b[1;34m(n)\u001b[0m\n\u001b[0;32m     22\u001b[0m         \u001b[1;32mwhile\u001b[0m \u001b[0mn\u001b[0m \u001b[1;33m!=\u001b[0m \u001b[1;36m0\u001b[0m\u001b[1;33m:\u001b[0m\u001b[1;33m\u001b[0m\u001b[1;33m\u001b[0m\u001b[0m\n\u001b[0;32m     23\u001b[0m             \u001b[0mr\u001b[0m \u001b[1;33m=\u001b[0m \u001b[0mn\u001b[0m \u001b[1;33m%\u001b[0m \u001b[1;36m10\u001b[0m\u001b[1;33m\u001b[0m\u001b[1;33m\u001b[0m\u001b[0m\n\u001b[1;32m---> 24\u001b[1;33m             \u001b[0ms\u001b[0m \u001b[1;33m+=\u001b[0m \u001b[0mfactorial\u001b[0m\u001b[1;33m(\u001b[0m\u001b[0mr\u001b[0m\u001b[1;33m)\u001b[0m\u001b[1;33m\u001b[0m\u001b[1;33m\u001b[0m\u001b[0m\n\u001b[0m\u001b[0;32m     25\u001b[0m             \u001b[0mn\u001b[0m \u001b[1;33m=\u001b[0m \u001b[0mn\u001b[0m \u001b[1;33m//\u001b[0m \u001b[1;36m10\u001b[0m\u001b[1;33m\u001b[0m\u001b[1;33m\u001b[0m\u001b[0m\n\u001b[0;32m     26\u001b[0m             \u001b[1;32mif\u001b[0m \u001b[0mbuffer\u001b[0m \u001b[1;33m==\u001b[0m \u001b[0ms\u001b[0m\u001b[1;33m:\u001b[0m\u001b[1;33m\u001b[0m\u001b[1;33m\u001b[0m\u001b[0m\n",
      "\u001b[1;31mNameError\u001b[0m: name 'factorial' is not defined"
     ]
    }
   ],
   "source": [
    "# Read a number as input \n",
    "# output Yes or No\n",
    "\n",
    "# Input : 145\n",
    "# Output : yes\n",
    "\n",
    "# Input : 123\n",
    "# Output : No\n",
    "# individual Digit factorial sum is same as input number\n",
    "\n",
    "def digitFactsum(n):\n",
    "    fact = 1\n",
    "    i = 1\n",
    "    while i <= n:\n",
    "        fact = fact * i\n",
    "        i = i + 1\n",
    "    return fact\n",
    "    \n",
    "def digitFactSum(n):\n",
    "        s=0\n",
    "        buffer = n\n",
    "        while n != 0:\n",
    "            r = n % 10\n",
    "            s += factorial(r)\n",
    "            n = n // 10\n",
    "            if buffer == s:\n",
    "                return \"Yes\"\n",
    "            else :\n",
    "                return \"No\"\n",
    "            return\n",
    "print(digitFactSum(145)) # Yes\n",
    "print(digitFactSum(123)) # No\n"
   ]
  },
  {
   "cell_type": "code",
   "execution_count": 1,
   "metadata": {},
   "outputs": [
    {
     "name": "stdout",
     "output_type": "stream",
     "text": [
      "yes\n",
      "no\n"
     ]
    }
   ],
   "source": [
    "# Read a number as input\n",
    "# Output yes or no\n",
    "\n",
    "#input : 145\n",
    "# output : yes\n",
    "\n",
    "# input : 123\n",
    "# output : no\n",
    "# individual digit sum is same as input number\n",
    "\n",
    "def factorial(n):\n",
    "   fact = 1\n",
    "   i = 1\n",
    "   while i <= n:\n",
    "       fact = fact * i\n",
    "       i = i + 1\n",
    "   return fact  \n",
    "def digitFactSum(n):\n",
    "   s = 0\n",
    "   buffer = n\n",
    "   while n != 0:\n",
    "       r = n % 10\n",
    "       s += factorial(r)\n",
    "       n = n // 10\n",
    "   if buffer == s:\n",
    "       return \"yes\"\n",
    "   else :\n",
    "       return \"no\"\n",
    "   return\n",
    "print(digitFactSum(145))  # yes\n",
    "print(digitFactSum(123))  # NO\n"
   ]
  },
  {
   "cell_type": "code",
   "execution_count": 4,
   "metadata": {},
   "outputs": [
    {
     "ename": "IndentationError",
     "evalue": "expected an indented block (<ipython-input-4-90612e3fc939>, line 3)",
     "output_type": "error",
     "traceback": [
      "\u001b[1;36m  File \u001b[1;32m\"<ipython-input-4-90612e3fc939>\"\u001b[1;36m, line \u001b[1;32m3\u001b[0m\n\u001b[1;33m    val = int(num)\u001b[0m\n\u001b[1;37m      ^\u001b[0m\n\u001b[1;31mIndentationError\u001b[0m\u001b[1;31m:\u001b[0m expected an indented block\n"
     ]
    }
   ],
   "source": [
    "num = input('Enter any number : ')\n",
    "try:\n",
    "val = int(num)\n",
    "if num == str(num)[::-1]:\n",
    "print('The given number is PALINDROME')\n",
    "else:\n",
    "print('The given number is NOT a palindrome')\n",
    "except ValueError:\n",
    "print(\"That's not a valid number, Try Again !\")\n"
   ]
  },
  {
   "cell_type": "code",
   "execution_count": 6,
   "metadata": {},
   "outputs": [
    {
     "name": "stdout",
     "output_type": "stream",
     "text": [
      "palindrome\n",
      "not a palindrome\n"
     ]
    }
   ],
   "source": [
    "def ispalindrome(n):\n",
    "   rev=0\n",
    "   buffer = n\n",
    "   while n != 0:\n",
    "       rev = rev * 10 + (n%10)\n",
    "       n = n // 10\n",
    "   if buffer == rev:\n",
    "       return \"palindrome\"\n",
    "   return \"not a palindrome\"\n",
    "print(ispalindrome(121))\n",
    "print(ispalindrome(123))\n"
   ]
  },
  {
   "cell_type": "code",
   "execution_count": 7,
   "metadata": {},
   "outputs": [
    {
     "ename": "SyntaxError",
     "evalue": "invalid character in identifier (<ipython-input-7-b4f4b5945f4e>, line 12)",
     "output_type": "error",
     "traceback": [
      "\u001b[1;36m  File \u001b[1;32m\"<ipython-input-7-b4f4b5945f4e>\"\u001b[1;36m, line \u001b[1;32m12\u001b[0m\n\u001b[1;33m    mani • Now\u001b[0m\n\u001b[1;37m         ^\u001b[0m\n\u001b[1;31mSyntaxError\u001b[0m\u001b[1;31m:\u001b[0m invalid character in identifier\n"
     ]
    }
   ],
   "source": [
    "def ispalindrome(n):\n",
    "   rev=0\n",
    "   buffer = n\n",
    "   while n != 0:\n",
    "       rev = rev * 10 + (n%10)\n",
    "       n = n // 10\n",
    "   if buffer == rev:\n",
    "       return \"palindrome\"\n",
    "   return \"not a palindrome\"\n",
    "print(ispalindrome(121))\n",
    "print(ispalindrome(123))\n",
    "mani • Now\n",
    "# function to print numbers between two limits\n",
    "# input : 11 25\n",
    "# output : 11 12 13 14.....\n",
    "\n",
    "def printSeries(lb,ub):\n",
    "   for x in range(lb,ub+1):\n",
    "       print(x,end=' ')\n",
    "   return\n",
    "printSeries(11,25)\n"
   ]
  },
  {
   "cell_type": "code",
   "execution_count": 9,
   "metadata": {},
   "outputs": [
    {
     "name": "stdout",
     "output_type": "stream",
     "text": [
      "11 12 13 14 15 16 17 18 19 20 21 22 23 24 25 "
     ]
    }
   ],
   "source": [
    "# function to print numbers between two limits\n",
    "# input : 11 25\n",
    "# output : 11 12 13 14.....\n",
    "\n",
    "def printSeries(lb,ub):\n",
    "    for x in range(lb,ub+1):\n",
    "        print(x,end=' ')\n",
    "    return\n",
    "printSeries(11,25)\n"
   ]
  },
  {
   "cell_type": "code",
   "execution_count": 11,
   "metadata": {},
   "outputs": [
    {
     "name": "stdout",
     "output_type": "stream",
     "text": [
      "500  504  508  512  516  520  "
     ]
    }
   ],
   "source": [
    "# functiontoprint the alternate numbers\n",
    "#[500,520] --  500 502 504 506 508  510 ...\n",
    "#[100,140] --  100 104 108 112 116  ...  140\n",
    "def alternateNumbers(lb,ub):\n",
    "    for x in range(lb,ub+1,4):\n",
    "        print(x,end='  ')\n",
    "    return\n",
    "alternateNumbers(500,520)"
   ]
  },
  {
   "cell_type": "code",
   "execution_count": null,
   "metadata": {},
   "outputs": [],
   "source": []
  },
  {
   "cell_type": "code",
   "execution_count": null,
   "metadata": {},
   "outputs": [],
   "source": []
  }
 ],
 "metadata": {
  "kernelspec": {
   "display_name": "Python 3",
   "language": "python",
   "name": "python3"
  },
  "language_info": {
   "codemirror_mode": {
    "name": "ipython",
    "version": 3
   },
   "file_extension": ".py",
   "mimetype": "text/x-python",
   "name": "python",
   "nbconvert_exporter": "python",
   "pygments_lexer": "ipython3",
   "version": "3.7.3"
  }
 },
 "nbformat": 4,
 "nbformat_minor": 2
}
